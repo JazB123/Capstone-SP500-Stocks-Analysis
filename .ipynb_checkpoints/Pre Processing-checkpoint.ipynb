{
 "cells": [
  {
   "cell_type": "markdown",
   "id": "3111fc62",
   "metadata": {},
   "source": [
    "## Pre Processing\n",
    "\n",
    "Creating a seperate Dataframe for each one of the types of data to start creating Time Series Analysis"
   ]
  },
  {
   "cell_type": "code",
   "execution_count": 1,
   "id": "a5e603e2",
   "metadata": {},
   "outputs": [],
   "source": [
    "import pandas as pd\n",
    "import numpy as np\n",
    "import os\n",
    "import matplotlib.pyplot as plt\n",
    "import seaborn as sns\n",
    "import math\n",
    "\n",
    "#Importing the DataFrame\n",
    "df = pd.read_csv('WrangledDataExplored.csv')\n",
    "df = df.set_index('Unnamed: 1')\n",
    "\n",
    "dfclose = df.loc['close']\n",
    "dfclose.set_index('Unnamed: 0', inplace=True)\n",
    "\n",
    "dfopen = df.loc['open']\n",
    "dfopen.set_index('Unnamed: 0', inplace=True)\n",
    "\n",
    "dfchange = df.loc['percentchange']\n",
    "dfchange.set_index('Unnamed: 0', inplace=True)\n",
    "\n",
    "dfvolume = df.loc['volume']\n",
    "dfvolume.set_index('Unnamed: 0', inplace=True)\n",
    "\n",
    "dfclosetrain = dfclose.T[0:1637]\n",
    "dfclosetest = dfclose.T[1637:]\n",
    "\n",
    "dfopentrain = dfopen.T[0:1637]\n",
    "dfopentest = dfopen.T[1637:]\n",
    "\n",
    "dfchangetrain = dfchange.T[0:1637]\n",
    "dfchangetest = dfchange.T[1637:]\n",
    "\n",
    "dfvolumetrain = dfvolume.T[0:1637]\n",
    "dfvolumetest = dfvolume.T[1637:]"
   ]
  },
  {
   "cell_type": "markdown",
   "id": "d5377101",
   "metadata": {},
   "source": [
    "## Explanation\n",
    "Since we are going to be doing a Time Series Analysis there is no need to scale our data. Instead we split the data into it's 4 individual categories that we had supplied and go from there. Using this data we can create a time forecast model for each category and see what we find is most accurate. We do this by training our data, and then forecasting it over the same period as our test data, then we compare our forecasted data to the test data."
   ]
  },
  {
   "cell_type": "code",
   "execution_count": null,
   "id": "cd88a405",
   "metadata": {},
   "outputs": [],
   "source": []
  },
  {
   "cell_type": "code",
   "execution_count": null,
   "id": "14f622e0",
   "metadata": {},
   "outputs": [],
   "source": []
  },
  {
   "cell_type": "code",
   "execution_count": null,
   "id": "9ef1ad2a",
   "metadata": {},
   "outputs": [],
   "source": []
  }
 ],
 "metadata": {
  "kernelspec": {
   "display_name": "Python 3 (ipykernel)",
   "language": "python",
   "name": "python3"
  },
  "language_info": {
   "codemirror_mode": {
    "name": "ipython",
    "version": 3
   },
   "file_extension": ".py",
   "mimetype": "text/x-python",
   "name": "python",
   "nbconvert_exporter": "python",
   "pygments_lexer": "ipython3",
   "version": "3.9.12"
  }
 },
 "nbformat": 4,
 "nbformat_minor": 5
}
