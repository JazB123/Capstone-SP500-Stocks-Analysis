{
 "cells": [
  {
   "cell_type": "markdown",
   "id": "3111fc62",
   "metadata": {},
   "source": [
    "## Pre Processing\n",
    "\n",
    "Creating a seperate Dataframe for each one of the types of data to start creating Time Series Analysis"
   ]
  },
  {
   "cell_type": "code",
   "execution_count": null,
   "id": "a5e603e2",
   "metadata": {},
   "outputs": [],
   "source": [
    "import pandas as pd\n",
    "import numpy as np\n",
    "import os\n",
    "import matplotlib.pyplot as plt\n",
    "import seaborn as sns\n",
    "import math\n",
    "\n",
    "#Importing the DataFrame\n",
    "df = pd.read_csv('WrangledDataExplored.csv')\n",
    "df = df.set_index('Unnamed: 1')\n",
    "dfclose = df.loc['close']\n",
    "dfclose.set_index('Unnamed: 0', inplace=True)\n",
    "dfopen = df.loc['open']\n",
    "dfopen.set_index('Unnamed: 0', inplace=True)\n",
    "dfchange = df.loc['percentchange']\n",
    "dfchange.set_index('Unnamed: 0', inplace=True)\n",
    "dfvolume = df.loc['volume']\n",
    "dfvolume.set_index('Unnamed: 0', inplace=True)\n"
   ]
  },
  {
   "cell_type": "markdown",
   "id": "d5377101",
   "metadata": {},
   "source": [
    "## Explanation\n",
    "Since we are going to be doing a Time Series Analysis there is no need to scale our data or create a training and test of our data. Instead we split the data into it's 4 individual categories that we had supplied and go from there. Using this data we can create a time forecast model for each category and see what we find is most accurate."
   ]
  },
  {
   "cell_type": "code",
   "execution_count": null,
   "id": "cd88a405",
   "metadata": {},
   "outputs": [],
   "source": []
  },
  {
   "cell_type": "code",
   "execution_count": null,
   "id": "14f622e0",
   "metadata": {},
   "outputs": [],
   "source": []
  }
 ],
 "metadata": {
  "kernelspec": {
   "display_name": "Python 3 (ipykernel)",
   "language": "python",
   "name": "python3"
  },
  "language_info": {
   "codemirror_mode": {
    "name": "ipython",
    "version": 3
   },
   "file_extension": ".py",
   "mimetype": "text/x-python",
   "name": "python",
   "nbconvert_exporter": "python",
   "pygments_lexer": "ipython3",
   "version": "3.9.12"
  }
 },
 "nbformat": 4,
 "nbformat_minor": 5
}
